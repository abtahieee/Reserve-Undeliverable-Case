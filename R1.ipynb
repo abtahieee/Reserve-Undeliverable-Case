{
 "cells": [
  {
   "cell_type": "markdown",
   "id": "aa7e12a5",
   "metadata": {},
   "source": [
    "## Reserve Undeliverable with DC OPF\n",
    "At first, we will take 30 bus system, and modify the 30 bus system"
   ]
  },
  {
   "cell_type": "code",
   "execution_count": 68,
   "id": "2662f054",
   "metadata": {},
   "outputs": [],
   "source": [
    "import pandapower as pp\n",
    "import pandapower.networks as nw\n",
    "import numpy as np"
   ]
  },
  {
   "cell_type": "code",
   "execution_count": 69,
   "id": "ba2cf3a6",
   "metadata": {},
   "outputs": [],
   "source": [
    "net = nw.case30() #Loading 30 bus system in net"
   ]
  },
  {
   "cell_type": "markdown",
   "id": "daff1ed3",
   "metadata": {},
   "source": [
    "### Network Overview\n",
    "We will check total generation capacity and demand. We will then modify it."
   ]
  },
  {
   "cell_type": "code",
   "execution_count": 70,
   "id": "70ce6f08",
   "metadata": {},
   "outputs": [
    {
     "name": "stdout",
     "output_type": "stream",
     "text": [
      "Total Capacity in MW : 335.0 \n",
      "\n",
      "Total Demand in MW : 189.2\n"
     ]
    }
   ],
   "source": [
    "gen_capacity = net.gen.max_p_mw.sum() + net.ext_grid.max_p_mw.sum()\n",
    "demand_load = net.load.p_mw.sum()\n",
    "print(f\"Total Capacity in MW : {gen_capacity} \\n\")\n",
    "print(f\"Total Demand in MW : {demand_load}\")"
   ]
  },
  {
   "cell_type": "markdown",
   "id": "565b01d2",
   "metadata": {},
   "source": [
    "### Modifying the network\n",
    "Reducing the generation capacity to encourage undeliverable reserve in contingency"
   ]
  },
  {
   "cell_type": "code",
   "execution_count": 71,
   "id": "0f09575d",
   "metadata": {},
   "outputs": [
    {
     "name": "stdout",
     "output_type": "stream",
     "text": [
      "Total Capacity in MW : 255.0 \n",
      "\n"
     ]
    }
   ],
   "source": [
    "net.gen.drop(index = [0], inplace = True)\n",
    "net.gen.reset_index(inplace = True,drop = True)\n",
    "gen_capacity = net.gen.max_p_mw.sum() + net.ext_grid.max_p_mw.sum()\n",
    "print(f\"Total Capacity in MW : {gen_capacity} \\n\")"
   ]
  },
  {
   "cell_type": "markdown",
   "id": "390c0be9",
   "metadata": {},
   "source": [
    "### Simplifying the cost function\n",
    "We will drop the quadratic cost of the generators and assign piecewise linear cost to inspect the system more intuitively"
   ]
  },
  {
   "cell_type": "code",
   "execution_count": 72,
   "id": "abd24f74",
   "metadata": {},
   "outputs": [
    {
     "data": {
      "text/plain": [
       "4"
      ]
     },
     "execution_count": 72,
     "metadata": {},
     "output_type": "execute_result"
    }
   ],
   "source": [
    "net.poly_cost.drop(index = [0,1,2,3,4,5], inplace = True) #Dropping the existing cost\n",
    "\n",
    "#Creating the piecewise linear cost for gen\n",
    "pp.create_pwl_cost(net, 0, 'ext_grid',[[0, 20, 1.8], [20, 80, 3.45]]) #[Pmin, Prange1, cost1], [Prange1, Pmax, cost2]\n",
    "pp.create_pwl_cost(net, 0, 'gen',[[0, 12, 1.5], [12, 50, 3.5]])\n",
    "pp.create_pwl_cost(net, 1, 'gen',[[0, 12, 1.6], [12, 55, 3.40]])\n",
    "pp.create_pwl_cost(net, 2, 'gen',[[0, 5, 1.4], [5, 30, 3.5]])\n",
    "pp.create_pwl_cost(net, 3, 'gen',[[0, 6, 1.45], [6, 40, 3.5]])"
   ]
  },
  {
   "cell_type": "markdown",
   "id": "d233b021",
   "metadata": {},
   "source": [
    "### Reserve Undeliverable Cases\n",
    "Now, we will run DCOPF and check failed cases. Note that even if we lose a generator, we have more capacity than the existing demand. The following objective and constraint are active in the network:\n",
    "\\begin{equation*} \\min \\sum C_g (P_{g}) \\quad \\forall g \\in G \\end{equation*} Subject to \\begin{align} P_g^{min} \\leq P_g \\leq P_g^{max} \\\\ Flow^{min} \\leq Flow \\leq Flow^{max}\\\\ \\sum_{g \\in G} P_g = \\sum D\\end{align}"
   ]
  },
  {
   "cell_type": "code",
   "execution_count": 73,
   "id": "750a813e",
   "metadata": {},
   "outputs": [
    {
     "name": "stdout",
     "output_type": "stream",
     "text": [
      "Gen Contingency: 4\n",
      "Optimal Power Flow did not converge!\n"
     ]
    }
   ],
   "source": [
    "gen_idx = net.gen.index\n",
    "gen_data = list()\n",
    "i = 0\n",
    "for i in gen_idx:\n",
    "    try:\n",
    "        net.gen.loc[i,'in_service'] = False\n",
    "        pp.rundcopp(net)\n",
    "    except Exception as e:\n",
    "        print(f\"Gen Contingency: {i+1}\")\n",
    "        print(e)\n",
    "    net.gen.loc[i,'in_service'] = True"
   ]
  },
  {
   "cell_type": "markdown",
   "id": "b4d48e68",
   "metadata": {},
   "source": [
    "From the above example, during Gen 4 contingency, the available reserve can not be delivered. Next, we will take Gen output without contingency"
   ]
  },
  {
   "cell_type": "code",
   "execution_count": 74,
   "id": "ad998166",
   "metadata": {},
   "outputs": [],
   "source": [
    "pp.rundcopp(net)\n",
    "gen_noc = list()\n",
    "for g in gen_idx:\n",
    "    gen_pc = net.res_gen.p_mw.loc[g]\n",
    "    gen_capc = net.gen.max_p_mw.loc[g]\n",
    "    gen_factc = (gen_pc/gen_capc)*100\n",
    "    gen_noc.append(gen_factc)"
   ]
  },
  {
   "cell_type": "markdown",
   "id": "ed4dc0c7",
   "metadata": {},
   "source": [
    "#### Adding a Flexibility\n",
    "Now, we will add a flexibility to a Node and run the contingency analysis again. This flexibility will remove the problem in Gen 4 Contigency. The cost for flexibility is high, so the system will not use it usually. The formulation get's slightly changed in this case. We add flexibility cost $C_f$, and flexibility usage $P_f$, which will be minimized.\n",
    "\\begin{equation*} \\min \\sum C_g (P_{g}) + \\sum C_f (P_{f}) \\quad \\forall g \\in G, \\quad f \\in F \\end{equation*} Subject to \\begin{align} P_g^{min} \\leq P_g \\leq P_g^{max} \\\\ P_f^{min} \\leq P_f \\leq P_f^{max} \\quad \\forall f \\in F \\\\ Flow_l^{min} \\leq Flow_l \\leq Flow_l^{max} \\quad \\forall l \\in L\\\\ \\sum_{g \\in G} P_{g} + \\sum_{f \\in F} P_{f} =  Demand\\end{align}"
   ]
  },
  {
   "cell_type": "code",
   "execution_count": 75,
   "id": "edde640c",
   "metadata": {},
   "outputs": [
    {
     "data": {
      "text/plain": [
       "5"
      ]
     },
     "execution_count": 75,
     "metadata": {},
     "output_type": "execute_result"
    }
   ],
   "source": [
    "pp.create_sgen(net, 7, p_mw=0, in_service= True, max_p_mw=25, min_p_mw=0, controllable=True) #Added a flexibility\n",
    "pp.create_pwl_cost(net, 0, \"sgen\", [[net.sgen.min_p_mw.at[0], net.sgen.max_p_mw.at[0], 15]]) #Defining a cost"
   ]
  },
  {
   "cell_type": "markdown",
   "id": "7e6b3a0b",
   "metadata": {},
   "source": [
    "Now, we will run DCOPF with the flexibility and test Gen 4 contingency. We will see that it converges now."
   ]
  },
  {
   "cell_type": "code",
   "execution_count": 76,
   "id": "7b403787",
   "metadata": {},
   "outputs": [],
   "source": [
    "net.gen.loc[3,'in_service'] = False\n",
    "try:\n",
    "    pp.rundcopp(net)\n",
    "except Exception as e:\n",
    "    print(e)\n",
    "net.gen.loc[3,'in_service'] = True"
   ]
  },
  {
   "cell_type": "markdown",
   "id": "505a8265",
   "metadata": {},
   "source": [
    "Hence, now with the flexibility, no issues in Gen 4 contingency. Next we will take Gen output data with respect to it's capacity to observe generator ramping."
   ]
  },
  {
   "cell_type": "code",
   "execution_count": 79,
   "id": "64466521",
   "metadata": {},
   "outputs": [],
   "source": [
    "gen_data = list()\n",
    "for i in gen_idx:\n",
    "    try:\n",
    "        net.gen.loc[i,'in_service'] = False\n",
    "        pp.rundcopp(net)\n",
    "    except Exception as e:\n",
    "        print(f\"Gen Contingency: {i+1}\")\n",
    "        print(e)\n",
    "    net.gen.loc[i,'in_service'] = True\n",
    "    for g in gen_idx:\n",
    "        gen_p = net.res_gen.p_mw.loc[g]\n",
    "        gen_cap = net.gen.max_p_mw.loc[g]\n",
    "        gen_fact = (gen_p/gen_cap)*100\n",
    "        gen_data.append(gen_fact)"
   ]
  },
  {
   "cell_type": "code",
   "execution_count": 89,
   "id": "a4827ad3",
   "metadata": {},
   "outputs": [
    {
     "data": {
      "text/plain": [
       "<AxesSubplot:ylabel='Gen Output/ Gen Capacity (%)'>"
      ]
     },
     "execution_count": 89,
     "metadata": {},
     "output_type": "execute_result"
    },
    {
     "data": {
      "image/png": "[encoded data removed]",
      "text/plain": [
       "<Figure size 1008x1440 with 4 Axes>"
      ]
     },
     "metadata": {
      "needs_background": "light"
     },
     "output_type": "display_data"
    }
   ],
   "source": [
    "import pandas as pd\n",
    "import matplotlib.pyplot as plt\n",
    "gen_data1 = [gen_noc[0],gen_data[4],gen_data[8],gen_data[12]]\n",
    "gen_data2 = [gen_noc[1],gen_data[1],gen_data[9],gen_data[13]]\n",
    "gen_data3 = [gen_noc[2],gen_data[2],gen_data[6],gen_data[14]]\n",
    "gen_data4 = [gen_noc[3],gen_data[3],gen_data[7],gen_data[11]]\n",
    "gen1_index = ['No Contingency','Contingency 2', 'Contingency 3', 'Contingecy 4']\n",
    "gen2_index = ['No Contingency','Contingency 1', 'Contingency 3', 'Contingecy 4']\n",
    "gen3_index = ['No Contingency','Contingency 1', 'Contingency 2', 'Contingecy 4']\n",
    "gen4_index = ['No Contingency','Contingency 1', 'Contingency 2', 'Contingecy 3']\n",
    "gen1_pl = pd.DataFrame(gen_data1, gen1_index)\n",
    "gen2_pl = pd.DataFrame(gen_data2, gen2_index)\n",
    "gen3_pl = pd.DataFrame(gen_data3, gen3_index)\n",
    "gen4_pl = pd.DataFrame(gen_data4, gen4_index)\n",
    "fig, axes = plt.subplots(nrows=2, ncols=2, figsize = (14,20))\n",
    "gen1_pl.plot.bar(ax=axes[0,0],legend = None,ylabel = 'Gen Output/ Gen Capacity (%)')\n",
    "gen2_pl.plot.bar(ax=axes[0,1],legend = None,ylabel = 'Gen Output/ Gen Capacity (%)')\n",
    "gen3_pl.plot.bar(ax=axes[1,0],legend = None,ylabel = 'Gen Output/ Gen Capacity (%)')\n",
    "gen4_pl.plot.bar(ax=axes[1,1],legend = None,ylabel = 'Gen Output/ Gen Capacity (%)')"
   ]
  },
  {
   "cell_type": "markdown",
   "id": "62e9660c",
   "metadata": {},
   "source": [
    "#### Conclusion of the observation\n",
    "Gen 4 needs to ramp up too much in contingency. Later, we will impose ramping constraint to Gen 4 in time series."
   ]
  },
  {
   "cell_type": "markdown",
   "id": "b454df20",
   "metadata": {},
   "source": [
    "### Economic Dispatch\n",
    "We can just remove the line loading constraint from the system which will cover in the next part. In ED, the constraint will be to fulfill demand with all the generating units, and flexibility available in the network."
   ]
  }
 ],
 "metadata": {
  "kernelspec": {
   "display_name": "Python 3",
   "language": "python",
   "name": "python3"
  },
  "language_info": {
   "codemirror_mode": {
    "name": "ipython",
    "version": 3
   },
   "file_extension": ".py",
   "mimetype": "text/x-python",
   "name": "python",
   "nbconvert_exporter": "python",
   "pygments_lexer": "ipython3",
   "version": "3.8.8"
  }
 },
 "nbformat": 4,
 "nbformat_minor": 5
}
